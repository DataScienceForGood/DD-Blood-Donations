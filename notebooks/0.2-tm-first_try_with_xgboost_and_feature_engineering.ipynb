{
 "cells": [
  {
   "cell_type": "markdown",
   "metadata": {},
   "source": [
    "This script uses Python interface to the XGBoost library. \n",
    "In order to install XGBoost using ```pip``` you need to have a C-compiler available. For instance, for Linux you need to run ```apt-get install build-essential``` before running ```pip install xgboost```."
   ]
  },
  {
   "cell_type": "code",
   "execution_count": 61,
   "metadata": {},
   "outputs": [],
   "source": [
    "# necessary libraries\n",
    "import numpy as np\n",
    "import pandas as pd\n",
    "from time import time\n",
    "from xgboost import XGBClassifier\n",
    "from sklearn.model_selection import RandomizedSearchCV"
   ]
  },
  {
   "cell_type": "code",
   "execution_count": 62,
   "metadata": {
    "collapsed": true
   },
   "outputs": [],
   "source": [
    "# load data\n",
    "train_set = np.loadtxt('../../transfusion.train.csv', delimiter=\",\", skiprows=1)\n",
    "test_set = np.loadtxt('../../transfusion.test.csv', delimiter=\",\", skiprows=1)"
   ]
  },
  {
   "cell_type": "code",
   "execution_count": 63,
   "metadata": {
    "collapsed": true
   },
   "outputs": [],
   "source": [
    "# split data into X, y, and test\n",
    "# remove ID and Total.Volume.Donated columns\n",
    "X = train_set[:,[1, 2, 4]]\n",
    "y = train_set[:,5]\n",
    "test = test_set[:,[1, 2, 4]]"
   ]
  },
  {
   "cell_type": "code",
   "execution_count": 64,
   "metadata": {
    "scrolled": false
   },
   "outputs": [],
   "source": [
    "def add_features(data):\n",
    "    avg_months_per_donation = (data[:, 2] - data[:, 0]) / data[:, 1]\n",
    "    distance_to_average = np.exp(-np.abs(avg_months_per_donation - data[:, 0]))\n",
    "    return np.column_stack((data, avg_months_per_donation, distance_to_average))\n",
    "\n",
    "X = add_features(X)\n",
    "test = add_features(test)"
   ]
  },
  {
   "cell_type": "code",
   "execution_count": 65,
   "metadata": {
    "collapsed": true
   },
   "outputs": [],
   "source": [
    "# define model\n",
    "clf = XGBClassifier()"
   ]
  },
  {
   "cell_type": "code",
   "execution_count": 66,
   "metadata": {
    "collapsed": true
   },
   "outputs": [],
   "source": [
    "# utility function to report best scores\n",
    "# from sklearn documentation\n",
    "def report(results, n_top=3):\n",
    "    for i in range(1, n_top + 1):\n",
    "        candidates = np.flatnonzero(results['rank_test_score'] == i)\n",
    "        for candidate in candidates:\n",
    "            print(\"Model with rank: {0}\".format(i))\n",
    "            print(\"Mean validation score: {0:.3f} (std: {1:.3f})\".format(\n",
    "                  results['mean_test_score'][candidate],\n",
    "                  results['std_test_score'][candidate]))\n",
    "            print(\"Parameters: {0}\".format(results['params'][candidate]))\n",
    "            print(\"\")"
   ]
  },
  {
   "cell_type": "code",
   "execution_count": 67,
   "metadata": {
    "collapsed": true
   },
   "outputs": [],
   "source": [
    "# specify parameters and distributions to sample from\n",
    "param_dist = { \"n_estimators\": [100, 200, 300, 400, 500, 600, 700, 800, 900, 1000],\n",
    "               \"learning_rate\": [0.0001, 0.001, 0.01, 0.1, 0.2, 0.3, 0.5, 0.7, 1.0],\n",
    "               \"max_depth\": range(1, 21, 2)\n",
    "             }"
   ]
  },
  {
   "cell_type": "code",
   "execution_count": 68,
   "metadata": {},
   "outputs": [
    {
     "name": "stdout",
     "output_type": "stream",
     "text": [
      "RandomizedSearchCV took 137.16 seconds for 200 candidates parameter settings.\n",
      "Model with rank: 1\n",
      "Mean validation score: -0.525 (std: 0.028)\n",
      "Parameters: {'n_estimators': 500, 'max_depth': 1, 'learning_rate': 0.01}\n",
      "\n",
      "Model with rank: 2\n",
      "Mean validation score: -0.544 (std: 0.033)\n",
      "Parameters: {'n_estimators': 900, 'max_depth': 1, 'learning_rate': 0.01}\n",
      "\n",
      "Model with rank: 3\n",
      "Mean validation score: -0.548 (std: 0.034)\n",
      "Parameters: {'n_estimators': 1000, 'max_depth': 1, 'learning_rate': 0.01}\n",
      "\n"
     ]
    }
   ],
   "source": [
    "# run randomized search for best hyperparameters\n",
    "n_iter_search = 200\n",
    "random_search = RandomizedSearchCV(clf, param_distributions=param_dist,\n",
    "                                   scoring=\"neg_log_loss\",\n",
    "                                   n_iter=n_iter_search,\n",
    "                                   random_state=42)\n",
    "\n",
    "start = time()\n",
    "random_search.fit(X, y)\n",
    "print(\"RandomizedSearchCV took %.2f seconds for %d candidates\"\n",
    "      \" parameter settings.\" % ((time() - start), n_iter_search))\n",
    "report(random_search.cv_results_)"
   ]
  },
  {
   "cell_type": "code",
   "execution_count": 69,
   "metadata": {
    "collapsed": true
   },
   "outputs": [],
   "source": [
    "# use best model from above to retrain a model with all train data\n",
    "param = {'objective': 'binary:logistic', \n",
    "         'learning_rate': 0.01, \n",
    "         'max_depth': 1, \n",
    "         'n_estimators': 500}\n",
    "model = XGBClassifier(**param)\n",
    "model.fit(X, y, eval_metric='logloss')\n",
    "y_test = model.predict_proba(test)"
   ]
  },
  {
   "cell_type": "code",
   "execution_count": 70,
   "metadata": {},
   "outputs": [
    {
     "data": {
      "image/png": "[encoded data removed]",
      "text/plain": [
       "<matplotlib.figure.Figure at 0x7fbc8fd32d30>"
      ]
     },
     "metadata": {},
     "output_type": "display_data"
    }
   ],
   "source": [
    "# plot feature importance using built-in function\n",
    "from xgboost import plot_importance\n",
    "from matplotlib import pyplot\n",
    "%matplotlib inline\n",
    "plot_importance(model)\n",
    "pyplot.show()"
   ]
  },
  {
   "cell_type": "code",
   "execution_count": 71,
   "metadata": {},
   "outputs": [
    {
     "name": "stdout",
     "output_type": "stream",
     "text": [
      "[ 0.164       0.28600001  0.036       0.212       0.30199999]\n"
     ]
    }
   ],
   "source": [
    "print(model.feature_importances_)"
   ]
  },
  {
   "cell_type": "markdown",
   "metadata": {},
   "source": [
    "* f0: months since last donation\n",
    "* f1: number of donations\n",
    "* f2: months since first donation\n",
    "* f3: average months per donation\n",
    "* f4: exponential distance to average"
   ]
  },
  {
   "cell_type": "code",
   "execution_count": 72,
   "metadata": {
    "collapsed": true
   },
   "outputs": [],
   "source": [
    "pd.DataFrame({'': test_set[:, 0], 'Made Donation in March 2007': y_test[:, 1]})\n",
    "df = pd.DataFrame({'': test_set[:, 0].astype(int), 'Made Donation in March 2007': y_test[:, 1]})\n",
    "df.to_csv('xgbSubmission-2.csv', index=False)"
   ]
  },
  {
   "cell_type": "markdown",
   "metadata": {},
   "source": [
    "On October 24, 2017 this script got a score of 0.4541, leading to a rank of 608/3389."
   ]
  }
 ],
 "metadata": {
  "kernelspec": {
   "display_name": "Python 3",
   "language": "python",
   "name": "python3"
  },
  "language_info": {
   "codemirror_mode": {
    "name": "ipython",
    "version": 3
   },
   "file_extension": ".py",
   "mimetype": "text/x-python",
   "name": "python",
   "nbconvert_exporter": "python",
   "pygments_lexer": "ipython3",
   "version": "3.6.2"
  }
 },
 "nbformat": 4,
 "nbformat_minor": 2
}
