{
 "cells": [
  {
   "cell_type": "markdown",
   "metadata": {},
   "source": [
    "This script uses Python interface to the XGBoost library. \n",
    "In order to install XGBoost using ```pip``` you need to have a C-compiler available. For instance, for Linux you need to run ```apt-get install build-essential``` before running ```pip install xgboost```."
   ]
  },
  {
   "cell_type": "code",
   "execution_count": 1,
   "metadata": {},
   "outputs": [
    {
     "name": "stderr",
     "output_type": "stream",
     "text": [
      "/opt/conda/lib/python3.6/site-packages/sklearn/cross_validation.py:41: DeprecationWarning: This module was deprecated in version 0.18 in favor of the model_selection module into which all the refactored classes and functions are moved. Also note that the interface of the new CV iterators are different from that of this module. This module will be removed in 0.20.\n",
      "  \"This module will be removed in 0.20.\", DeprecationWarning)\n"
     ]
    }
   ],
   "source": [
    "# necessary libraries\n",
    "import numpy as np\n",
    "import pandas as pd\n",
    "from time import time\n",
    "from xgboost import XGBClassifier\n",
    "from sklearn.model_selection import RandomizedSearchCV"
   ]
  },
  {
   "cell_type": "code",
   "execution_count": 2,
   "metadata": {
    "collapsed": true
   },
   "outputs": [],
   "source": [
    "# load data\n",
    "train_set = pd.read_csv('../../transfusion.train.csv')\n",
    "test_set = pd.read_csv('../../transfusion.test.csv')"
   ]
  },
  {
   "cell_type": "code",
   "execution_count": 3,
   "metadata": {
    "collapsed": true
   },
   "outputs": [],
   "source": [
    "# split data into X, y, and test\n",
    "# remove ID and Total.Volume.Donated columns\n",
    "X = train_set.loc[:, ['Months since Last Donation', 'Number of Donations', 'Months since First Donation']]\n",
    "y = train_set.loc[:, 'Made Donation in March 2007']\n",
    "test = test_set.loc[:,['Months since Last Donation', 'Number of Donations', 'Months since First Donation']]"
   ]
  },
  {
   "cell_type": "code",
   "execution_count": 4,
   "metadata": {
    "collapsed": true,
    "scrolled": false
   },
   "outputs": [],
   "source": [
    "def add_features(data):\n",
    "    data['Average Months Per Donation'] = (data['Months since First Donation'] - data['Months since Last Donation']) / data['Number of Donations']\n",
    "    data['Distance to Average'] = np.exp(-np.abs(data['Average Months Per Donation'] - data['Months since Last Donation']))\n",
    "    return data\n",
    "\n",
    "X = add_features(X)\n",
    "test = add_features(test)"
   ]
  },
  {
   "cell_type": "code",
   "execution_count": 5,
   "metadata": {},
   "outputs": [
    {
     "name": "stdout",
     "output_type": "stream",
     "text": [
      "Number of outliers: 11\n"
     ]
    }
   ],
   "source": [
    "# remove outliers\n",
    "mask = ~((X['Number of Donations'] > 30) | (X['Months since Last Donation'] > 50) | (X['Average Months Per Donation'] > 25))\n",
    "X = X[mask]\n",
    "y = y[mask]\n",
    "print('Number of outliers: ' + str(sum(~mask)))"
   ]
  },
  {
   "cell_type": "code",
   "execution_count": 6,
   "metadata": {
    "collapsed": true
   },
   "outputs": [],
   "source": [
    "# define model\n",
    "clf = XGBClassifier()"
   ]
  },
  {
   "cell_type": "code",
   "execution_count": 7,
   "metadata": {
    "collapsed": true
   },
   "outputs": [],
   "source": [
    "# utility function to report best scores\n",
    "# from sklearn documentation\n",
    "def report(results, n_top=3):\n",
    "    for i in range(1, n_top + 1):\n",
    "        candidates = np.flatnonzero(results['rank_test_score'] == i)\n",
    "        for candidate in candidates:\n",
    "            print(\"Model with rank: {0}\".format(i))\n",
    "            print(\"Mean validation score: {0:.3f} (std: {1:.3f})\".format(\n",
    "                  results['mean_test_score'][candidate],\n",
    "                  results['std_test_score'][candidate]))\n",
    "            print(\"Parameters: {0}\".format(results['params'][candidate]))\n",
    "            print(\"\")"
   ]
  },
  {
   "cell_type": "code",
   "execution_count": 8,
   "metadata": {
    "collapsed": true
   },
   "outputs": [],
   "source": [
    "# specify parameters and distributions to sample from\n",
    "param_dist = { \"n_estimators\": [100, 200, 300, 400, 500, 600, 700, 800, 900, 1000],\n",
    "               \"learning_rate\": [0.0001, 0.001, 0.01, 0.1, 0.2, 0.3, 0.5, 0.7, 1.0],\n",
    "               \"max_depth\": range(1, 21, 2)\n",
    "             }"
   ]
  },
  {
   "cell_type": "code",
   "execution_count": 9,
   "metadata": {},
   "outputs": [
    {
     "name": "stdout",
     "output_type": "stream",
     "text": [
      "RandomizedSearchCV took 115.69 seconds for 200 candidates parameter settings.\n",
      "Model with rank: 1\n",
      "Mean validation score: -0.526 (std: 0.030)\n",
      "Parameters: {'n_estimators': 500, 'max_depth': 1, 'learning_rate': 0.01}\n",
      "\n",
      "Model with rank: 2\n",
      "Mean validation score: -0.544 (std: 0.035)\n",
      "Parameters: {'n_estimators': 900, 'max_depth': 1, 'learning_rate': 0.01}\n",
      "\n",
      "Model with rank: 3\n",
      "Mean validation score: -0.548 (std: 0.037)\n",
      "Parameters: {'n_estimators': 1000, 'max_depth': 1, 'learning_rate': 0.01}\n",
      "\n"
     ]
    }
   ],
   "source": [
    "# run randomized search for best hyperparameters\n",
    "n_iter_search = 200\n",
    "random_search = RandomizedSearchCV(clf, param_distributions=param_dist,\n",
    "                                   scoring=\"neg_log_loss\",\n",
    "                                   n_iter=n_iter_search,\n",
    "                                   random_state=42)\n",
    "\n",
    "start = time()\n",
    "random_search.fit(X, y)\n",
    "print(\"RandomizedSearchCV took %.2f seconds for %d candidates\"\n",
    "      \" parameter settings.\" % ((time() - start), n_iter_search))\n",
    "report(random_search.cv_results_)"
   ]
  },
  {
   "cell_type": "code",
   "execution_count": 10,
   "metadata": {
    "collapsed": true
   },
   "outputs": [],
   "source": [
    "# use best model from above to retrain a model with all train data\n",
    "param = {'objective': 'binary:logistic', \n",
    "         'learning_rate': 0.01, \n",
    "         'max_depth': 1, \n",
    "         'n_estimators': 500}\n",
    "model = XGBClassifier(**param)\n",
    "model.fit(X, y, eval_metric='logloss')\n",
    "y_test = model.predict_proba(test)"
   ]
  },
  {
   "cell_type": "code",
   "execution_count": 11,
   "metadata": {},
   "outputs": [
    {
     "data": {
      "image/png": "[encoded data removed]",
      "text/plain": [
       "<matplotlib.figure.Figure at 0x7fb858e6df60>"
      ]
     },
     "metadata": {},
     "output_type": "display_data"
    }
   ],
   "source": [
    "# plot feature importance using built-in function\n",
    "from xgboost import plot_importance\n",
    "from matplotlib import pyplot\n",
    "%matplotlib inline\n",
    "plot_importance(model)\n",
    "pyplot.show()"
   ]
  },
  {
   "cell_type": "code",
   "execution_count": 12,
   "metadata": {
    "collapsed": true
   },
   "outputs": [],
   "source": [
    "df = pd.DataFrame({'': test_set['Unnamed: 0'].values.astype(int), 'Made Donation in March 2007': y_test[:, 1]})\n",
    "df.to_csv('xgbSubmission-5.csv', index=False)"
   ]
  },
  {
   "cell_type": "markdown",
   "metadata": {},
   "source": [
    "On October 24, 2017 this script got a score of 0.4541, leading to a rank of 608/3389."
   ]
  }
 ],
 "metadata": {
  "kernelspec": {
   "display_name": "Python 3",
   "language": "python",
   "name": "python3"
  },
  "language_info": {
   "codemirror_mode": {
    "name": "ipython",
    "version": 3
   },
   "file_extension": ".py",
   "mimetype": "text/x-python",
   "name": "python",
   "nbconvert_exporter": "python",
   "pygments_lexer": "ipython3",
   "version": "3.6.2"
  }
 },
 "nbformat": 4,
 "nbformat_minor": 2
}
